{
 "metadata": {
  "language_info": {
   "codemirror_mode": {
    "name": "ipython",
    "version": 3
   },
   "file_extension": ".py",
   "mimetype": "text/x-python",
   "name": "python",
   "nbconvert_exporter": "python",
   "pygments_lexer": "ipython3",
   "version": "3.8.6-final"
  },
  "orig_nbformat": 2,
  "kernelspec": {
   "name": "pycv",
   "display_name": "pycv",
   "language": "python"
  }
 },
 "nbformat": 4,
 "nbformat_minor": 2,
 "cells": [
  {
   "source": [
    "# Download YouTube Videos\n",
    "**Author:** Scott Campit\n",
    "\n",
    "This notebook adpted code from Yan Gobeil's [Medium article](https://towardsdatascience.com/making-an-image-dataset-from-youtube-videos-5116252d20a3) convert YouTube video clips into images.\n",
    "\n",
    "The following modifications were made to ensure the code ran in Python 3.8+ with the latest dependency versions (which can be found in the `requirements.txt` file):\n",
    "\n",
    "  1. Replaced Beautiful Soup with Selenium to get urls due to JavaScript file being pulled and not being parsed in bs4.\n",
    "  2. Resolved several errors that popped up during the run. \n",
    "  3. Simplified syntax, arguments, and number of operations performed.\n",
    "\n",
    "Some issues and/or extensions that would be appreciated:\n",
    "\n",
    "  * Some videos do not contain relevant images - rather, they are either a lecture, are based on cartoons, or have really bad resolution. \n",
    "    * We need an automatic or semi-automatic way to tease apart what videos/images are relevant.\n",
    "  * Extending the number of pages that are queried on YouTube. "
   ],
   "cell_type": "markdown",
   "metadata": {}
  },
  {
   "source": [
    "## Import Libraries\n",
    "First, we need to install some important libraries."
   ],
   "cell_type": "markdown",
   "metadata": {}
  },
  {
   "cell_type": "code",
   "execution_count": 1,
   "metadata": {},
   "outputs": [],
   "source": [
    "from selenium import webdriver\n",
    "from selenium.webdriver.common.by import By\n",
    "from selenium.webdriver.support.ui import WebDriverWait\n",
    "from selenium.webdriver.support import expected_conditions as EC\n",
    "\n",
    "from pytube import YouTube\n",
    "import cv2\n",
    "import os\n",
    "import glob"
   ]
  },
  {
   "source": [
    "## Setting up functions for downloading YouTube videos as images\n",
    "\n",
    "### Get video URLs\n",
    "Next, we'll define the first function, which searches a word or phrase on Youtube and returns urls for the videos."
   ],
   "cell_type": "markdown",
   "metadata": {}
  },
  {
   "cell_type": "code",
   "execution_count": 3,
   "metadata": {},
   "outputs": [],
   "source": [
    "def get_urls(query, site_to_query=\"https://www.youtube.com/\", wait_duration=5, path_to_chrome_driver=r'C:/Users/Scott/Software/Browser_Utils/chromedriver.exe'):\n",
    "    '''\n",
    "    Search Youtube based on query and return a list of links to the videos resulting from the search. A maximum of results can be set (default 10).\n",
    "\n",
    "    INPUTS\n",
    "        * query: a string denoting the keyword or phrase to search on YouTube.\n",
    "        * wait_duration: an integer denoting the amount of time to wait per click. This prevents us from getting into trouble by Google. The default value is 5s.\n",
    "        * path_to_chrome_driver: a string denoting the path to your Chrome driver (needed to query on the Chrome browser using Selenium).\n",
    "\n",
    "    OUTPUT\n",
    "        * urls: a list of urls corresponding to the query.\n",
    "    '''\n",
    "    \n",
    "    # Initialize on Chrome \n",
    "    options = webdriver.ChromeOptions()\n",
    "    options.add_argument('headless')\n",
    "    driver = webdriver.Chrome(executable_path=path_to_chrome_driver, chrome_options=options)\n",
    "    \n",
    "    # Search on YouTube\n",
    "    driver.get(site_to_query)\n",
    "    WebDriverWait(driver, wait_duration).until(EC.element_to_be_clickable((By.CSS_SELECTOR, \"input#search\"))).send_keys(query)\n",
    "    driver.find_element_by_css_selector(\"button.style-scope.ytd-searchbox#search-icon-legacy\").click()\n",
    "    \n",
    "    # Get URLs\n",
    "    urls = [my_href.get_attribute(\"href\") for my_href in WebDriverWait(driver, wait_duration).until(EC.visibility_of_all_elements_located((By.CSS_SELECTOR, \"a.yt-simple-endpoint.style-scope.ytd-video-renderer#video-title\")))]\n",
    "    return urls"
   ]
  },
  {
   "source": [
    "### Download images to local\n",
    "Next, we'll download the videos to your local system using [pytube](https://python-pytube.readthedocs.io/en/latest/). Note that this code may temporarily occupy a lot of storage, as it saves the video on your disk before deleting. "
   ],
   "cell_type": "markdown",
   "metadata": {}
  },
  {
   "source": [
    "def download_video(url, path=None):\n",
    "    \"\"\"\n",
    "    download_video downloads all YouTube videos from the list of urls using pytube.\n",
    "    \n",
    "    INPUTS:\n",
    "        * url: a list of urls correspond to the query.\n",
    "    \"\"\"\n",
    "\n",
    "    # if the url is bad or doesn't point to a YouTube video, the following code doesn't work.\n",
    "    try:\n",
    "        yt = YouTube(url)\n",
    "        yt = yt.streams.filter(file_extension='mp4').first()\n",
    "        out_file = yt.download(path)\n",
    "        file_name = out_file.split(\"\\\\\")[-1]\n",
    "        print(f\"Downloaded {file_name} correctly!\")\n",
    "    except Exception as exc:\n",
    "        print(f\"Download of {url} did not work because of {exc}...\")"
   ],
   "cell_type": "code",
   "metadata": {},
   "execution_count": 4,
   "outputs": []
  },
  {
   "source": [
    "### Extract images from video\n",
    "Finally, this function will extract images using [OpenCV](https://opencv.org/)."
   ],
   "cell_type": "markdown",
   "metadata": {}
  },
  {
   "source": [
    "def extract_images_from_video(video, savepath=os.getcwd(), delay=30, name=\"file\", max_images=20, is_silent=True):\n",
    "    \"\"\"\n",
    "    extract_images_from_video turns a YouTube video (.mp4) into a series of images using the opencv project. \n",
    "\n",
    "    INPUTS:\n",
    "        * video: a string denoting the path to an .mp4 file.\n",
    "        * savepath: a string denoting where to save the images. Default is the current working directory.\n",
    "        * delay: \n",
    "        * name: a string denoting the name of the file.\n",
    "        * max_images: an integer denoting the number of images to generate per video\n",
    "        * is_silent: a boolean denoting whether to print the status of image generation or not.\n",
    "    \"\"\"    \n",
    "    vidcap = cv2.VideoCapture(video)\n",
    "    count = 0\n",
    "    num_images = 0\n",
    "    label = 0\n",
    "    success = True\n",
    "    fps = int(vidcap.get(cv2.CAP_PROP_FPS))\n",
    "    \n",
    "    # The code fails if the video is too short w.r.t the delay and number of images. \n",
    "    # So I made this try/except statement to get around that.\n",
    "    try:\n",
    "        while success and num_images < max_images:\n",
    "            success, image = vidcap.read()\n",
    "            num_images += 1\n",
    "            label += 1\n",
    "            filename = name + \"_\" + str(label) + \".jpg\"\n",
    "            path = os.path.join(savepath, filename)\n",
    "            cv2.imwrite(path, image)\n",
    "            if cv2.imread(path) is None:\n",
    "                os.remove(path)\n",
    "            else:\n",
    "                if not is_silent:\n",
    "                    print(f'Image successfully written at {path}')\n",
    "            count += delay*fps\n",
    "            vidcap.set(1, count)\n",
    "    except Exception as exc:\n",
    "        print(f\"Image separation stopped because of {exc}...\")\n",
    "        pass"
   ],
   "cell_type": "code",
   "metadata": {},
   "execution_count": 5,
   "outputs": []
  },
  {
   "source": [
    "# Putting it all together\n",
    "Now let's aggregate all the functions we just developed into a single function to call for downloading images based on YouTube queries.\n"
   ],
   "cell_type": "markdown",
   "metadata": {}
  },
  {
   "cell_type": "code",
   "execution_count": 17,
   "metadata": {
    "tags": []
   },
   "outputs": [],
   "source": [
    "def extract_images_from_word(query, delete_video=True, image_delay=5, \n",
    "                             max_images=30, savepath=os.getcwd(), silent=True):\n",
    "    \"\"\"\n",
    "    \"\"\"\n",
    "    if not os.path.exists(savepath):\n",
    "        os.mkdir(savepath)\n",
    "    \n",
    "    # Get urls\n",
    "    urls = get_urls(query, \n",
    "                    site_to_query=\"https://www.youtube.com/\", \n",
    "                    wait_duration=5, \n",
    "                    path_to_chrome_driver=r'C:/Users/Scott/Software/Browser_Utils/chromedriver.exe')\n",
    "\n",
    "    # Download videos using the URLs we just extracted\n",
    "    for url in urls:\n",
    "        download_video(url, savepath)\n",
    "    \n",
    "    # Find all .mp4s and create images from them.\n",
    "    for i, video in enumerate(glob.glob(\"*.mp4\")):\n",
    "        extract_images_from_video(str(video), folder=savepath, delay=image_delay, name=query+'_'+str(i), max_images=max_images, is_silent=silent)\n",
    "        \n",
    "        # Save on memory when possible.\n",
    "        if delete_video:\n",
    "            os.remove(video)\n",
    "    \n",
    "    print(\"Finished extracting images from videos!\")"
   ]
  },
  {
   "source": [
    "## Extracting Thyroidectomy videos (automatically)\n",
    "Now, let's download some Thyroidectomy videos from YouTube. Gross."
   ],
   "cell_type": "markdown",
   "metadata": {}
  },
  {
   "cell_type": "code",
   "execution_count": 4,
   "metadata": {},
   "outputs": [],
   "source": [
    "path_to_img = \"D:/Data/InterOp/Thyroidectomy/\"\n",
    "extract_images_from_word(query=\"thyroidectomy\", delete_video=True, image_delay=5, max_images=50, savepath=path_to_img, silent=False)"
   ]
  },
  {
   "source": [
    "# Extracting Thyroidectomy videos (manually)\n",
    "First, you would need to copy and paste urls into this list. The urls below correspond to the query \"Thyroidectomy\" specifically."
   ],
   "cell_type": "markdown",
   "metadata": {}
  },
  {
   "cell_type": "code",
   "execution_count": 9,
   "metadata": {},
   "outputs": [],
   "source": [
    "urls = [\n",
    "    \"https://www.youtube.com/watch?v=IiBg-fSNSxc\",\n",
    "    \"https://www.youtube.com/watch?v=WJ2jS88EUmo\",\n",
    "    \"https://www.youtube.com/watch?v=2tCajgpPcGo&has_verified=1\",\n",
    "    \"https://www.youtube.com/watch?v=cRKcRu2ugoA&has_verified=1\",\n",
    "    \"https://www.youtube.com/watch?v=biS97SAiNCA\",\n",
    "    \"https://www.youtube.com/watch?v=EhQ-yXqB8no\",\n",
    "    \"https://www.youtube.com/watch?v=23uZbHfnWnU\",\n",
    "    \"https://www.youtube.com/watch?v=eGs_JNbH1Xs\",\n",
    "    \"https://www.youtube.com/watch?v=QKNQe-oXFKQ\",\n",
    "    \"https://www.youtube.com/watch?v=zLaaIYtSXnk\",\n",
    "    \"https://www.youtube.com/watch?v=EkESrh4f5ao\",\n",
    "    \"https://www.youtube.com/watch?v=mYzL383plFw\",\n",
    "    \"https://www.youtube.com/watch?v=tEJagKxruw8\"\n",
    "]"
   ]
  },
  {
   "source": [
    "Let's modify the function so that it takes in a list of urls to query."
   ],
   "cell_type": "markdown",
   "metadata": {}
  },
  {
   "cell_type": "code",
   "execution_count": 20,
   "metadata": {},
   "outputs": [],
   "source": [
    "def extract_images_from_url_manually(query, urls, delete_video=True, image_delay=5, \n",
    "                             max_images=30, savepath=os.getcwd(), silent=True):\n",
    "    \"\"\"\n",
    "    \"\"\"\n",
    "    if not os.path.exists(savepath):\n",
    "        os.mkdir(savepath)\n",
    "    os.chdir(savepath)\n",
    "    \n",
    "    # Download videos using the URLs we just extracted\n",
    "    for url in urls:\n",
    "        download_video(url, savepath)\n",
    "    \n",
    "    # Find all .mp4s and create images from them.\n",
    "    for i, video in enumerate(glob.glob(\"*.mp4\")):\n",
    "        extract_images_from_video(video, savepath=savepath, delay=image_delay, name=query+'_'+str(i), max_images=max_images, is_silent=silent)\n",
    "        \n",
    "        # Save on memory when possible.\n",
    "        if delete_video:\n",
    "            os.remove(video)\n",
    "    \n",
    "    print(\"Finished extracting images from videos!\")"
   ]
  },
  {
   "source": [
    "We'll grab them now."
   ],
   "cell_type": "markdown",
   "metadata": {}
  },
  {
   "cell_type": "code",
   "execution_count": 21,
   "metadata": {},
   "outputs": [
    {
     "output_type": "stream",
     "name": "stdout",
     "text": [
      "Downloaded D:/Data/InterOp/Thyroidectomy/Total Thyroidectomy and Central Neck Dissection.mp4 correctly!\n",
      "Downloaded D:/Data/InterOp/Thyroidectomy/Thyroid lobectomy.mp4 correctly!\n",
      "Downloaded D:/Data/InterOp/Thyroidectomy/Thyroidectomy using HARMONIC FOCUS®+ Shears with Dr Pellitteri.mp4 correctly!\n",
      "Downloaded D:/Data/InterOp/Thyroidectomy/THE MOUNT SINAI SURGICAL FILM ATLAS Transaxillary Thyroidectomy.mp4 correctly!\n",
      "Downloaded D:/Data/InterOp/Thyroidectomy/Total Thyroidectomy - Thyroid Cancer - Operative Surgery.mp4 correctly!\n",
      "Downloaded D:/Data/InterOp/Thyroidectomy/Left Thyroid Lobectomy.mp4 correctly!\n",
      "Downloaded D:/Data/InterOp/Thyroidectomy/Thyroidectomy Surgery - THUNDERBEAT - Olympus Surgical  Dr Sam Van Slycke.mp4 correctly!\n",
      "Downloaded D:/Data/InterOp/Thyroidectomy/Total Thyroidectomy For Substernal Goiter in a Previously Operated Patient.mp4 correctly!\n",
      "Downloaded D:/Data/InterOp/Thyroidectomy/Minimally Invasive Thyroidectomy.mp4 correctly!\n",
      "Downloaded D:/Data/InterOp/Thyroidectomy/Thyroid Surgery & Its Risks  Complications (Thyroidectomy) (GRAPHIC).mp4 correctly!\n",
      "Downloaded D:/Data/InterOp/Thyroidectomy/Thyroidectomy.mp4 correctly!\n",
      "Downloaded D:/Data/InterOp/Thyroidectomy/thyroidectomy.mp4 correctly!\n",
      "Downloaded D:/Data/InterOp/Thyroidectomy/Total Thyroidectomy Dr John Chaplin Auckland New Zealand.mp4 correctly!\n",
      "Finished extracting images from videos!\n"
     ]
    }
   ],
   "source": [
    "path_to_img = \"D:/Data/InterOp/Thyroidectomy/\"\n",
    "query = \"thyroidectomy\"\n",
    "extract_images_from_url_manually(query, urls, delete_video=True, image_delay=5, \n",
    "                             max_images=50, savepath=path_to_img, silent=True)"
   ]
  },
  {
   "cell_type": "code",
   "execution_count": null,
   "metadata": {},
   "outputs": [],
   "source": []
  }
 ]
}